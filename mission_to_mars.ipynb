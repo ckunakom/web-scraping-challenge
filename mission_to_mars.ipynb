{
 "cells": [
  {
   "cell_type": "markdown",
   "metadata": {},
   "source": [
    "# Scraping"
   ]
  },
  {
   "cell_type": "code",
   "execution_count": 1,
   "metadata": {},
   "outputs": [],
   "source": [
    "# Dependencies\n",
    "from bs4 import BeautifulSoup as bs\n",
    "from splinter import Browser\n",
    "import requests\n",
    "import pandas as pd\n",
    "import time"
   ]
  },
  {
   "cell_type": "code",
   "execution_count": 2,
   "metadata": {},
   "outputs": [],
   "source": [
    "# Define path\n",
    "executable_path = {'executable_path': 'c:/bin/chromedriver.exe'}"
   ]
  },
  {
   "cell_type": "markdown",
   "metadata": {},
   "source": [
    "### NASA Mars News"
   ]
  },
  {
   "cell_type": "code",
   "execution_count": null,
   "metadata": {},
   "outputs": [],
   "source": [
    "# Instantiate a splinter browser\n",
    "browser = Browser('chrome', **executable_path, headless=False)\n",
    "\n",
    "# Define Url for the browser to launch\n",
    "nasa_url = 'https://mars.nasa.gov/news/?page=0&per_page=40&order=publish_date+desc%2Ccreated_at+desc&search=&category=19%2C165%2C184%2C204&blank_scope=Latest'\n",
    "browser.visit(nasa_url)\n",
    "time.sleep(2)\n",
    "\n",
    "# HTML object\n",
    "nasa_html = browser.html\n",
    "# Parse HTML with BS\n",
    "nasa_soup = bs(nasa_html, 'html.parser')\n",
    "# Retrieve all elements that contain quotes information\n",
    "content_title = nasa_soup.find_all('div', class_='content_title')\n",
    "article_teaser = nasa_soup.find_all('div', class_='article_teaser_body')\n",
    "\n",
    "# Shut the browser down when done!\n",
    "browser.quit()"
   ]
  },
  {
   "cell_type": "code",
   "execution_count": null,
   "metadata": {},
   "outputs": [],
   "source": [
    "# Manually grabbing the text...(?)\n",
    "news_title = content_title[1].text\n",
    "news_p = article_teaser[0].text"
   ]
  },
  {
   "cell_type": "markdown",
   "metadata": {},
   "source": [
    "### JPL Mars Space Images - Featured Image"
   ]
  },
  {
   "cell_type": "code",
   "execution_count": null,
   "metadata": {},
   "outputs": [],
   "source": [
    "# Instantiate a splinter browser\n",
    "browser = Browser('chrome', **executable_path, headless=False)\n",
    "\n",
    "# URL of page to be scraped\n",
    "jpl_url = 'https://www.jpl.nasa.gov/spaceimages/?search=&category=Mars'\n",
    "browser.visit(jpl_url)\n",
    "time.sleep(2)\n",
    "\n",
    "# HTML object\n",
    "jpl_html = browser.html\n",
    "# Parse HTML with BS\n",
    "jpl_soup = bs(jpl_html, 'html.parser')\n",
    "# Retrieve img path\n",
    "img_path = jpl_soup.find_all('img')[3]['src']\n",
    "\n",
    "\n",
    "\n",
    "### I CAN'T FIGURE OUT ### NOTHING WORKS ### 😭😭😭😭😭😭😭😭😭😭\n",
    "# Click the imgae to go to img page\n",
    "# browser.click_link_by_partial_text('thumb')\n",
    "\n",
    "# browser.click_link_by_href(img_path)\n",
    "# browser.attach_file('img', img_path)\n",
    "# stackoverflow = browser.find_element_by_xpath(img_path).click()\n",
    "\n",
    "# Can I just skip the first url\n",
    "\n",
    "\n",
    "\n",
    "# Shut the browser down when done!\n",
    "browser.quit()"
   ]
  },
  {
   "cell_type": "code",
   "execution_count": null,
   "metadata": {},
   "outputs": [],
   "source": [
    "img_url = img_path\n",
    "print(img_url)"
   ]
  },
  {
   "cell_type": "code",
   "execution_count": null,
   "metadata": {},
   "outputs": [],
   "source": [
    "# Grabbed the URL\n",
    "featured_image_url ="
   ]
  },
  {
   "cell_type": "code",
   "execution_count": null,
   "metadata": {},
   "outputs": [],
   "source": [
    "\n"
   ]
  },
  {
   "cell_type": "code",
   "execution_count": null,
   "metadata": {},
   "outputs": [],
   "source": []
  },
  {
   "cell_type": "code",
   "execution_count": null,
   "metadata": {},
   "outputs": [],
   "source": []
  },
  {
   "cell_type": "markdown",
   "metadata": {},
   "source": [
    "### Mars Facts"
   ]
  },
  {
   "cell_type": "code",
   "execution_count": null,
   "metadata": {},
   "outputs": [],
   "source": [
    "# Automatically scrape any tabular data from a page w pandas\n",
    "mars_url = 'https://space-facts.com/mars/'\n",
    "tables = pd.read_html(mars_url)"
   ]
  },
  {
   "cell_type": "code",
   "execution_count": null,
   "metadata": {},
   "outputs": [],
   "source": [
    "# Fishing out wanted table, and transpose it\n",
    "# df = tables[0].T\n",
    "# df.head()"
   ]
  },
  {
   "cell_type": "code",
   "execution_count": null,
   "metadata": {},
   "outputs": [],
   "source": [
    "# # Raneme the column\n",
    "# df = df.rename(columns={0: 'Equatorial Diamete',\n",
    "#                        1: 'Polar Diameter',\n",
    "#                        2: 'Mass',\n",
    "#                        3: 'Moons',\n",
    "#                        4: 'Orbit Distance',\n",
    "#                        5: 'Orbit Period',\n",
    "#                        6: 'Surface Temperature',\n",
    "#                        7: 'First Record',\n",
    "#                        8: 'Recorded By'})"
   ]
  },
  {
   "cell_type": "code",
   "execution_count": null,
   "metadata": {},
   "outputs": [],
   "source": [
    "# # Removed the first row\n",
    "# df = df.iloc[1:] \n",
    "# df"
   ]
  },
  {
   "cell_type": "code",
   "execution_count": null,
   "metadata": {},
   "outputs": [],
   "source": [
    "# Fishing out wanted table, and transpose it\n",
    "df = tables[0]"
   ]
  },
  {
   "cell_type": "code",
   "execution_count": null,
   "metadata": {},
   "outputs": [],
   "source": [
    "# Raneme the column\n",
    "df = df.rename(columns={0: 'Description',\n",
    "                       1: 'Mars'})"
   ]
  },
  {
   "cell_type": "code",
   "execution_count": null,
   "metadata": {},
   "outputs": [],
   "source": [
    "# Set the index to the `abb` column\n",
    "df.set_index('Description', inplace=True)\n",
    "df"
   ]
  },
  {
   "cell_type": "code",
   "execution_count": null,
   "metadata": {},
   "outputs": [],
   "source": [
    "# Generate HTML tables from DataFrames\n",
    "html_table = df.to_html()"
   ]
  },
  {
   "cell_type": "code",
   "execution_count": null,
   "metadata": {},
   "outputs": [],
   "source": [
    "# Convert df to html\n",
    "df.to_html('mars_table.html')"
   ]
  },
  {
   "cell_type": "markdown",
   "metadata": {},
   "source": [
    "# Mars Hemispheres"
   ]
  },
  {
   "cell_type": "code",
   "execution_count": 7,
   "metadata": {},
   "outputs": [],
   "source": [
    "# Instantiate a splinter browser\n",
    "browser = Browser('chrome', **executable_path, headless=False)\n",
    "\n",
    "\n",
    "# Define URL to scrape title & url\n",
    "marshem_url = 'https://astrogeology.usgs.gov/search/results?q=hemisphere+enhanced&k1=target&v1=Mars'\n",
    "browser.visit(marshem_url)\n",
    "time.sleep(2)\n",
    "\n",
    "# HTML object\n",
    "marshem_html = browser.html\n",
    "# Parse HTML with BS\n",
    "marshem_soup = bs(marshem_html, 'html.parser')\n",
    "# Retrieve img path\n",
    "description_class = marshem_soup.find_all('div', class_='description')"
   ]
  },
  {
   "cell_type": "code",
   "execution_count": null,
   "metadata": {},
   "outputs": [],
   "source": [
    "# Create an empty list to store dictionaries of imag_url & title\n",
    "hemisphere_image_urls = []\n",
    "\n",
    "# Run loop to get the info\n",
    "for dsc in description_class:\n",
    "    # Create an empty dictionary to store img_url & title\n",
    "    hemisphere_dict = {}\n",
    "    # GET the title into dictionary\n",
    "    hemisphere_dict['title'] = dsc.a.h3.text\n",
    "    # Get image URL\n",
    "    hemisphere_dict['img_url'] = 😭😭😭😭😭😭😭😭😭😭\n",
    "    # Add the dictionary to the list \n",
    "    hemisphere_image_urls.append(hemisphere_dict)\n",
    "\n",
    "# Shut the browser down when done!\n",
    "browser.quit()"
   ]
  },
  {
   "cell_type": "code",
   "execution_count": null,
   "metadata": {},
   "outputs": [],
   "source": [
    "hemisphere_image_urls"
   ]
  },
  {
   "cell_type": "code",
   "execution_count": 8,
   "metadata": {},
   "outputs": [
    {
     "name": "stdout",
     "output_type": "stream",
     "text": [
      "/search/map/Mars/Viking/cerberus_enhanced\n",
      "/search/map/Mars/Viking/schiaparelli_enhanced\n",
      "/search/map/Mars/Viking/syrtis_major_enhanced\n",
      "/search/map/Mars/Viking/valles_marineris_enhanced\n"
     ]
    }
   ],
   "source": [
    "##### DRAFT HERE ######## Getting IMAGE_URL\n",
    "# URL of page to be scraped ----- This is too manaual, it ain't right...\n",
    "## I can't figure out how to use splinter for it to click on the image T^T ##\n",
    "\n",
    "\n",
    "for dsc in description_class:\n",
    "    #PART 1\n",
    "    # Retrieve img path\n",
    "    img_dwnload = dsc.find('a')['href']\n",
    "    \n",
    "        # Click the image......\n",
    "        #some code here to make chromebrowser click the image\n",
    "        \n",
    "        \n",
    "        # Once image is clicked, and browser goes to another page:\n",
    "        ## SEE BELOW PART 2\n",
    "        \n",
    "        \n",
    "        \n",
    "        \n",
    "        \n",
    "        \n",
    "    \n",
    "    \n",
    "        # CODE FROM CLASS, THERE'S NO 'NEXT'..... \n",
    "        #Click the 'Next' button on each page\n",
    "        try:\n",
    "        browser.click_link_by_partial_text('next')\n",
    " \n",
    "        except:\n",
    "        print(\"Scraping Complete\")\n",
    "    \n",
    "#     print(img_dwnload)\n",
    "        \n",
    "\n",
    "# Shut the browser down when done!\n",
    "browser.quit()"
   ]
  },
  {
   "cell_type": "code",
   "execution_count": null,
   "metadata": {},
   "outputs": [],
   "source": []
  },
  {
   "cell_type": "code",
   "execution_count": 9,
   "metadata": {},
   "outputs": [
    {
     "name": "stdout",
     "output_type": "stream",
     "text": [
      "https://astropedia.astrogeology.usgs.gov/download/Mars/Viking/cerberus_enhanced.tif/full.jpg\n"
     ]
    }
   ],
   "source": [
    "# Instantiate a splinter browser\n",
    "browser = Browser('chrome', **executable_path, headless=False)\n",
    "\n",
    "\n",
    "# Define URL to scrape title & url\n",
    "testurl = 'https://astrogeology.usgs.gov/search/map/Mars/Viking/cerberus_enhanced'\n",
    "browser.visit(testurl)\n",
    "time.sleep(2)\n",
    "\n",
    "# HTML object\n",
    "test_html = browser.html\n",
    "# Parse HTML with BS\n",
    "testsoup = bs(test_html, 'html.parser')\n",
    "\n",
    "## PART 2\n",
    "\n",
    "# Retrieve img path\n",
    "test_class = testsoup.find_all('div', class_='downloads')\n",
    "\n",
    "for test in test_class:\n",
    "    # Retrieve img path\n",
    "    test_li = test.find('li')\n",
    "    a = test_li.find('a')['href']\n",
    "    print(a)\n",
    "\n",
    "# Shut the browser down when done!\n",
    "browser.quit()"
   ]
  },
  {
   "cell_type": "markdown",
   "metadata": {},
   "source": [
    "### Jupyter Notebook Ended."
   ]
  },
  {
   "cell_type": "code",
   "execution_count": null,
   "metadata": {},
   "outputs": [],
   "source": [
    "# Converting your Jupyter notebook into a Python script called scrape_mars.py with a function called scrape\n",
    "# ................... HOW?????"
   ]
  }
 ],
 "metadata": {
  "kernelspec": {
   "display_name": "Python 3",
   "language": "python",
   "name": "python3"
  },
  "language_info": {
   "codemirror_mode": {
    "name": "ipython",
    "version": 3
   },
   "file_extension": ".py",
   "mimetype": "text/x-python",
   "name": "python",
   "nbconvert_exporter": "python",
   "pygments_lexer": "ipython3",
   "version": "3.6.10"
  }
 },
 "nbformat": 4,
 "nbformat_minor": 4
}
